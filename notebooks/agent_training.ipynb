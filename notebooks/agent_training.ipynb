{
 "cells": [
  {
   "cell_type": "code",
   "execution_count": 1,
   "metadata": {},
   "outputs": [],
   "source": [
    "import sys\n",
    "sys.path.append('..')"
   ]
  },
  {
   "cell_type": "code",
   "execution_count": 2,
   "metadata": {},
   "outputs": [],
   "source": [
    "from src.Network import NetworkEnv\n",
    "from src.Preprocessing import TransformDataset\n",
    "from stable_baselines3 import DQN, A2C, PPO\n",
    "from stable_baselines3.common.monitor import Monitor\n",
    "from stable_baselines3.common.evaluation import evaluate_policy\n",
    "import pandas as pd\n",
    "from datasets import load_dataset"
   ]
  },
  {
   "cell_type": "code",
   "execution_count": 3,
   "metadata": {},
   "outputs": [
    {
     "name": "stdout",
     "output_type": "stream",
     "text": [
      "42\n"
     ]
    },
    {
     "data": {
      "text/html": [
       "<div>\n",
       "<style scoped>\n",
       "    .dataframe tbody tr th:only-of-type {\n",
       "        vertical-align: middle;\n",
       "    }\n",
       "\n",
       "    .dataframe tbody tr th {\n",
       "        vertical-align: top;\n",
       "    }\n",
       "\n",
       "    .dataframe thead th {\n",
       "        text-align: right;\n",
       "    }\n",
       "</style>\n",
       "<table border=\"1\" class=\"dataframe\">\n",
       "  <thead>\n",
       "    <tr style=\"text-align: right;\">\n",
       "      <th></th>\n",
       "      <th>duration</th>\n",
       "      <th>protocol_type</th>\n",
       "      <th>service</th>\n",
       "      <th>flag</th>\n",
       "      <th>src_bytes</th>\n",
       "      <th>dst_bytes</th>\n",
       "      <th>land</th>\n",
       "      <th>wrong_fragment</th>\n",
       "      <th>urgent</th>\n",
       "      <th>hot</th>\n",
       "      <th>...</th>\n",
       "      <th>dst_host_srv_count</th>\n",
       "      <th>dst_host_same_srv_rate</th>\n",
       "      <th>dst_host_diff_srv_rate</th>\n",
       "      <th>dst_host_same_src_port_rate</th>\n",
       "      <th>dst_host_srv_diff_host_rate</th>\n",
       "      <th>dst_host_serror_rate</th>\n",
       "      <th>dst_host_srv_serror_rate</th>\n",
       "      <th>dst_host_rerror_rate</th>\n",
       "      <th>dst_host_srv_rerror_rate</th>\n",
       "      <th>class</th>\n",
       "    </tr>\n",
       "  </thead>\n",
       "  <tbody>\n",
       "    <tr>\n",
       "      <th>0</th>\n",
       "      <td>0.0</td>\n",
       "      <td>0.5</td>\n",
       "      <td>0.289855</td>\n",
       "      <td>0.9</td>\n",
       "      <td>3.558064e-07</td>\n",
       "      <td>0.000000e+00</td>\n",
       "      <td>0.0</td>\n",
       "      <td>0.0</td>\n",
       "      <td>0.0</td>\n",
       "      <td>0.0</td>\n",
       "      <td>...</td>\n",
       "      <td>0.098039</td>\n",
       "      <td>0.17</td>\n",
       "      <td>0.03</td>\n",
       "      <td>0.17</td>\n",
       "      <td>0.00</td>\n",
       "      <td>0.00</td>\n",
       "      <td>0.00</td>\n",
       "      <td>0.05</td>\n",
       "      <td>0.00</td>\n",
       "      <td>0.0</td>\n",
       "    </tr>\n",
       "    <tr>\n",
       "      <th>1</th>\n",
       "      <td>0.0</td>\n",
       "      <td>1.0</td>\n",
       "      <td>0.637681</td>\n",
       "      <td>0.9</td>\n",
       "      <td>1.057999e-07</td>\n",
       "      <td>0.000000e+00</td>\n",
       "      <td>0.0</td>\n",
       "      <td>0.0</td>\n",
       "      <td>0.0</td>\n",
       "      <td>0.0</td>\n",
       "      <td>...</td>\n",
       "      <td>0.003922</td>\n",
       "      <td>0.00</td>\n",
       "      <td>0.60</td>\n",
       "      <td>0.88</td>\n",
       "      <td>0.00</td>\n",
       "      <td>0.00</td>\n",
       "      <td>0.00</td>\n",
       "      <td>0.00</td>\n",
       "      <td>0.00</td>\n",
       "      <td>0.0</td>\n",
       "    </tr>\n",
       "    <tr>\n",
       "      <th>2</th>\n",
       "      <td>0.0</td>\n",
       "      <td>0.5</td>\n",
       "      <td>0.710145</td>\n",
       "      <td>0.5</td>\n",
       "      <td>0.000000e+00</td>\n",
       "      <td>0.000000e+00</td>\n",
       "      <td>0.0</td>\n",
       "      <td>0.0</td>\n",
       "      <td>0.0</td>\n",
       "      <td>0.0</td>\n",
       "      <td>...</td>\n",
       "      <td>0.101961</td>\n",
       "      <td>0.10</td>\n",
       "      <td>0.05</td>\n",
       "      <td>0.00</td>\n",
       "      <td>0.00</td>\n",
       "      <td>1.00</td>\n",
       "      <td>1.00</td>\n",
       "      <td>0.00</td>\n",
       "      <td>0.00</td>\n",
       "      <td>1.0</td>\n",
       "    </tr>\n",
       "    <tr>\n",
       "      <th>3</th>\n",
       "      <td>0.0</td>\n",
       "      <td>0.5</td>\n",
       "      <td>0.347826</td>\n",
       "      <td>0.9</td>\n",
       "      <td>1.681203e-07</td>\n",
       "      <td>6.223962e-06</td>\n",
       "      <td>0.0</td>\n",
       "      <td>0.0</td>\n",
       "      <td>0.0</td>\n",
       "      <td>0.0</td>\n",
       "      <td>...</td>\n",
       "      <td>1.000000</td>\n",
       "      <td>1.00</td>\n",
       "      <td>0.00</td>\n",
       "      <td>0.03</td>\n",
       "      <td>0.04</td>\n",
       "      <td>0.03</td>\n",
       "      <td>0.01</td>\n",
       "      <td>0.00</td>\n",
       "      <td>0.01</td>\n",
       "      <td>0.0</td>\n",
       "    </tr>\n",
       "    <tr>\n",
       "      <th>4</th>\n",
       "      <td>0.0</td>\n",
       "      <td>0.5</td>\n",
       "      <td>0.347826</td>\n",
       "      <td>0.9</td>\n",
       "      <td>1.442067e-07</td>\n",
       "      <td>3.206260e-07</td>\n",
       "      <td>0.0</td>\n",
       "      <td>0.0</td>\n",
       "      <td>0.0</td>\n",
       "      <td>0.0</td>\n",
       "      <td>...</td>\n",
       "      <td>1.000000</td>\n",
       "      <td>1.00</td>\n",
       "      <td>0.00</td>\n",
       "      <td>0.00</td>\n",
       "      <td>0.00</td>\n",
       "      <td>0.00</td>\n",
       "      <td>0.00</td>\n",
       "      <td>0.00</td>\n",
       "      <td>0.00</td>\n",
       "      <td>0.0</td>\n",
       "    </tr>\n",
       "  </tbody>\n",
       "</table>\n",
       "<p>5 rows × 42 columns</p>\n",
       "</div>"
      ],
      "text/plain": [
       "   duration  protocol_type   service  flag     src_bytes     dst_bytes  land  \\\n",
       "0       0.0            0.5  0.289855   0.9  3.558064e-07  0.000000e+00   0.0   \n",
       "1       0.0            1.0  0.637681   0.9  1.057999e-07  0.000000e+00   0.0   \n",
       "2       0.0            0.5  0.710145   0.5  0.000000e+00  0.000000e+00   0.0   \n",
       "3       0.0            0.5  0.347826   0.9  1.681203e-07  6.223962e-06   0.0   \n",
       "4       0.0            0.5  0.347826   0.9  1.442067e-07  3.206260e-07   0.0   \n",
       "\n",
       "   wrong_fragment  urgent  hot  ...  dst_host_srv_count  \\\n",
       "0             0.0     0.0  0.0  ...            0.098039   \n",
       "1             0.0     0.0  0.0  ...            0.003922   \n",
       "2             0.0     0.0  0.0  ...            0.101961   \n",
       "3             0.0     0.0  0.0  ...            1.000000   \n",
       "4             0.0     0.0  0.0  ...            1.000000   \n",
       "\n",
       "   dst_host_same_srv_rate  dst_host_diff_srv_rate  \\\n",
       "0                    0.17                    0.03   \n",
       "1                    0.00                    0.60   \n",
       "2                    0.10                    0.05   \n",
       "3                    1.00                    0.00   \n",
       "4                    1.00                    0.00   \n",
       "\n",
       "   dst_host_same_src_port_rate  dst_host_srv_diff_host_rate  \\\n",
       "0                         0.17                         0.00   \n",
       "1                         0.88                         0.00   \n",
       "2                         0.00                         0.00   \n",
       "3                         0.03                         0.04   \n",
       "4                         0.00                         0.00   \n",
       "\n",
       "   dst_host_serror_rate  dst_host_srv_serror_rate  dst_host_rerror_rate  \\\n",
       "0                  0.00                      0.00                  0.05   \n",
       "1                  0.00                      0.00                  0.00   \n",
       "2                  1.00                      1.00                  0.00   \n",
       "3                  0.03                      0.01                  0.00   \n",
       "4                  0.00                      0.00                  0.00   \n",
       "\n",
       "   dst_host_srv_rerror_rate  class  \n",
       "0                      0.00    0.0  \n",
       "1                      0.00    0.0  \n",
       "2                      0.00    1.0  \n",
       "3                      0.01    0.0  \n",
       "4                      0.00    0.0  \n",
       "\n",
       "[5 rows x 42 columns]"
      ]
     },
     "execution_count": 3,
     "metadata": {},
     "output_type": "execute_result"
    }
   ],
   "source": [
    "data = load_dataset(\"Mireu-Lab/NSL-KDD\")\n",
    "df =  TransformDataset(data['train'].to_pandas())  \n",
    "df.head()"
   ]
  },
  {
   "cell_type": "code",
   "execution_count": 4,
   "metadata": {},
   "outputs": [],
   "source": [
    "max_steps=15000"
   ]
  },
  {
   "cell_type": "code",
   "execution_count": 5,
   "metadata": {},
   "outputs": [],
   "source": [
    "env = NetworkEnv(Dataframe=df, max_steps=max_steps)"
   ]
  },
  {
   "cell_type": "code",
   "execution_count": 6,
   "metadata": {},
   "outputs": [],
   "source": [
    "policy = \"MlpPolicy\"\n",
    "tts = df.shape[0]\n",
    "verbosity = 0"
   ]
  },
  {
   "cell_type": "code",
   "execution_count": 7,
   "metadata": {},
   "outputs": [
    {
     "data": {
      "application/vnd.jupyter.widget-view+json": {
       "model_id": "9c63dd48948342edb71d7756832db5ae",
       "version_major": 2,
       "version_minor": 0
      },
      "text/plain": [
       "Output()"
      ]
     },
     "metadata": {},
     "output_type": "display_data"
    },
    {
     "data": {
      "text/html": [
       "<pre style=\"white-space:pre;overflow-x:auto;line-height:normal;font-family:Menlo,'DejaVu Sans Mono',consolas,'Courier New',monospace\"></pre>\n"
      ],
      "text/plain": []
     },
     "metadata": {},
     "output_type": "display_data"
    }
   ],
   "source": [
    "init , _ = env.reset()\n",
    "env_dqn = Monitor(env=env,filename='../logs/train_dqn_log')\n",
    "model_dqn = DQN(policy=policy, env=env_dqn, verbose=verbosity)\n",
    "model_dqn.learn(total_timesteps=tts, progress_bar=True, reset_num_timesteps=True)\n",
    "model_dqn.save('../models/model_dqn')"
   ]
  },
  {
   "cell_type": "code",
   "execution_count": 8,
   "metadata": {},
   "outputs": [
    {
     "data": {
      "application/vnd.jupyter.widget-view+json": {
       "model_id": "0245a890d1a0433fac362456da05b598",
       "version_major": 2,
       "version_minor": 0
      },
      "text/plain": [
       "Output()"
      ]
     },
     "metadata": {},
     "output_type": "display_data"
    },
    {
     "data": {
      "text/html": [
       "<pre style=\"white-space:pre;overflow-x:auto;line-height:normal;font-family:Menlo,'DejaVu Sans Mono',consolas,'Courier New',monospace\"></pre>\n"
      ],
      "text/plain": []
     },
     "metadata": {},
     "output_type": "display_data"
    }
   ],
   "source": [
    "init, _ = env.reset()\n",
    "env_custom = Monitor(env=env, filename='../logs/train_custom_log')\n",
    "policy_kwargs = dict( net_arch=[32,64,128,256,256])\n",
    "model_dqn_custom = DQN(policy=policy, env=env_custom, policy_kwargs=policy_kwargs, verbose=verbosity)\n",
    "model_dqn_custom.learn(total_timesteps=tts, progress_bar=True, reset_num_timesteps=True)\n",
    "model_dqn_custom.save(\"../models/model_custom\")"
   ]
  },
  {
   "cell_type": "code",
   "execution_count": 9,
   "metadata": {},
   "outputs": [
    {
     "data": {
      "application/vnd.jupyter.widget-view+json": {
       "model_id": "d43bee69718d422585872c44d4c5c0cf",
       "version_major": 2,
       "version_minor": 0
      },
      "text/plain": [
       "Output()"
      ]
     },
     "metadata": {},
     "output_type": "display_data"
    },
    {
     "data": {
      "text/html": [
       "<pre style=\"white-space:pre;overflow-x:auto;line-height:normal;font-family:Menlo,'DejaVu Sans Mono',consolas,'Courier New',monospace\"></pre>\n"
      ],
      "text/plain": []
     },
     "metadata": {},
     "output_type": "display_data"
    },
    {
     "data": {
      "text/plain": [
       "<stable_baselines3.a2c.a2c.A2C at 0x78bb272c3050>"
      ]
     },
     "execution_count": 9,
     "metadata": {},
     "output_type": "execute_result"
    }
   ],
   "source": [
    "init, _ = env.reset()\n",
    "env_a2c = Monitor(env=env, filename='../logs/train_a2c_log')\n",
    "model_a2c = A2C(policy=policy, env=env_a2c, verbose=verbosity)\n",
    "model_a2c.learn(total_timesteps=tts, progress_bar=True)"
   ]
  },
  {
   "cell_type": "code",
   "execution_count": 10,
   "metadata": {},
   "outputs": [],
   "source": [
    "model_a2c.save('../models/model_a2c')"
   ]
  },
  {
   "cell_type": "code",
   "execution_count": 11,
   "metadata": {},
   "outputs": [
    {
     "data": {
      "application/vnd.jupyter.widget-view+json": {
       "model_id": "b601783904cb49c5bd234e1de82f4438",
       "version_major": 2,
       "version_minor": 0
      },
      "text/plain": [
       "Output()"
      ]
     },
     "metadata": {},
     "output_type": "display_data"
    },
    {
     "data": {
      "text/html": [
       "<pre style=\"white-space:pre;overflow-x:auto;line-height:normal;font-family:Menlo,'DejaVu Sans Mono',consolas,'Courier New',monospace\"></pre>\n"
      ],
      "text/plain": []
     },
     "metadata": {},
     "output_type": "display_data"
    },
    {
     "data": {
      "text/plain": [
       "<stable_baselines3.ppo.ppo.PPO at 0x78bb06456c10>"
      ]
     },
     "execution_count": 11,
     "metadata": {},
     "output_type": "execute_result"
    }
   ],
   "source": [
    "init , _ = env.reset()\n",
    "env_ppo = Monitor(env=env, filename='../logs/train_ppo_log', override_existing=True)\n",
    "model_ppo = PPO(policy=policy, env=env_ppo, verbose=verbosity)\n",
    "model_ppo.learn(total_timesteps=tts, progress_bar=True)"
   ]
  },
  {
   "cell_type": "code",
   "execution_count": 12,
   "metadata": {},
   "outputs": [],
   "source": [
    "model_ppo.save('../models/model_ppo')"
   ]
  },
  {
   "cell_type": "code",
   "execution_count": 13,
   "metadata": {},
   "outputs": [
    {
     "name": "stdout",
     "output_type": "stream",
     "text": [
      "42\n"
     ]
    },
    {
     "data": {
      "text/plain": [
       "(34394, 42)"
      ]
     },
     "execution_count": 13,
     "metadata": {},
     "output_type": "execute_result"
    }
   ],
   "source": [
    "scaled_test = TransformDataset(Dataset=data['test'].to_pandas())\n",
    "scaled_test.shape"
   ]
  },
  {
   "cell_type": "code",
   "execution_count": 14,
   "metadata": {},
   "outputs": [],
   "source": [
    "test_env = NetworkEnv(Dataframe=scaled_test, max_steps=1000)"
   ]
  },
  {
   "cell_type": "code",
   "execution_count": 15,
   "metadata": {},
   "outputs": [
    {
     "data": {
      "text/plain": [
       "([682.0, 708.0, 710.0, 705.0, 710.0, 687.0, 683.0, 664.0, 697.0, 719.0],\n",
       " [1000, 1000, 1000, 1000, 1000, 1000, 1000, 1000, 1000, 1000])"
      ]
     },
     "execution_count": 15,
     "metadata": {},
     "output_type": "execute_result"
    }
   ],
   "source": [
    "init, _ = env.reset()\n",
    "test_env_dqn = Monitor(env=test_env,filename='../logs/test_dqn_log')\n",
    "evaluate_policy(model=model_dqn, env=test_env_dqn, return_episode_rewards=True)"
   ]
  },
  {
   "cell_type": "code",
   "execution_count": 16,
   "metadata": {},
   "outputs": [
    {
     "data": {
      "text/plain": [
       "([749.0, 682.0, 725.0, 714.0, 718.0, 701.0, 718.0, 732.0, 705.0, 707.0],\n",
       " [1000, 1000, 1000, 1000, 1000, 1000, 1000, 1000, 1000, 1000])"
      ]
     },
     "execution_count": 16,
     "metadata": {},
     "output_type": "execute_result"
    }
   ],
   "source": [
    "init, _ = env.reset()\n",
    "test_env_a2c = Monitor(env=test_env,filename='../logs/test_a2c_log')\n",
    "evaluate_policy(model=model_a2c, env=test_env_a2c, return_episode_rewards=True)"
   ]
  },
  {
   "cell_type": "code",
   "execution_count": 17,
   "metadata": {},
   "outputs": [
    {
     "data": {
      "text/plain": [
       "([679.0, 690.0, 678.0, 687.0, 688.0, 679.0, 706.0, 688.0, 669.0, 718.0],\n",
       " [1000, 1000, 1000, 1000, 1000, 1000, 1000, 1000, 1000, 1000])"
      ]
     },
     "execution_count": 17,
     "metadata": {},
     "output_type": "execute_result"
    }
   ],
   "source": [
    "init, _ = env.reset()\n",
    "test_env_ppo = Monitor(env=test_env,filename='../logs/test_ppo_log')\n",
    "evaluate_policy(model=model_ppo, env=test_env_ppo, return_episode_rewards=True)"
   ]
  },
  {
   "cell_type": "code",
   "execution_count": 18,
   "metadata": {},
   "outputs": [
    {
     "data": {
      "text/plain": [
       "([721.0, 708.0, 725.0, 709.0, 705.0, 718.0, 698.0, 720.0, 743.0, 742.0],\n",
       " [1000, 1000, 1000, 1000, 1000, 1000, 1000, 1000, 1000, 1000])"
      ]
     },
     "execution_count": 18,
     "metadata": {},
     "output_type": "execute_result"
    }
   ],
   "source": [
    "init, _ = env.reset()\n",
    "test_env_custom = Monitor(env=test_env,filename='../logs/test_dqn_custom_log')\n",
    "evaluate_policy(model=model_dqn_custom, env=test_env_custom, return_episode_rewards=True)"
   ]
  },
  {
   "cell_type": "markdown",
   "metadata": {},
   "source": [
    "#### Evaluation :\n"
   ]
  },
  {
   "cell_type": "code",
   "execution_count": 19,
   "metadata": {},
   "outputs": [],
   "source": [
    "loaded_model_dqn = DQN.load('../models/model_dqn')\n",
    "loaded_model_a2c = A2C.load('../models/model_a2c')\n",
    "loaded_model_ppo = PPO.load('../models/model_ppo')"
   ]
  },
  {
   "cell_type": "code",
   "execution_count": 20,
   "metadata": {},
   "outputs": [],
   "source": [
    "def evaluation(model, df_test):\n",
    "    \"\"\"\n",
    "    Evaluate  model on Test set.\n",
    "    \n",
    "    Args:\n",
    "        model: Trained model\n",
    "        df_test: Test DataFrame\n",
    "    \n",
    "    Returns:\n",
    "        dict: Evaluation metrics\n",
    "    \"\"\"\n",
    "    attempts, correct = 0, 0\n",
    "    tp, fp, fn, tn = 0, 0, 0, 0\n",
    "    i=0\n",
    "    # Create environment\n",
    "    env = NetworkEnv(Dataframe=df_test, max_steps=df_test.shape[0])\n",
    "    Y_test = df_test['class'].values\n",
    "    \n",
    "    \n",
    "    # for i in range(5):\n",
    "    obs = env.reset()\n",
    "    obs = obs[0]\n",
    "    done = False\n",
    "    while not done:\n",
    "        # Predict action\n",
    "        action, *_ = model.predict(obs, deterministic=True)\n",
    "        \n",
    "        # Step in environment\n",
    "        obs, rew, terminated, truncated,_ = env.step(action)\n",
    "        # Update metrics\n",
    "        done = terminated or truncated\n",
    "        attempts += 1\n",
    "        \n",
    "        # Accuracy and confusion matrix calculations\n",
    "        if rew > 0:\n",
    "            correct += 1\n",
    "        \n",
    "        # Binary classification metrics\n",
    "        if Y_test[i] == 0 and rew == 1:\n",
    "            tp += 1\n",
    "        elif Y_test[i] == 0 and rew == 0:\n",
    "            fp += 1\n",
    "        elif Y_test[i] == 1 and rew == 0:\n",
    "            fn += 1\n",
    "        elif Y_test[i] == 1 and rew == 1:\n",
    "            tn += 1\n",
    "        i+=1\n",
    "        # Break if episode is done\n",
    "        if done:\n",
    "            break\n",
    "    \n",
    "    # Calculate and print metrics\n",
    "    metrics = {\n",
    "        'accuracy': (correct / attempts) * 100,\n",
    "        'false_positive_rate': (fp / (fp + tn)) * 100 if (fp + tn) > 0 else 0,\n",
    "        'confusion_matrix': {\n",
    "            'tp': tp, 'fp': fp,\n",
    "            'fn': fn, 'tn': tn\n",
    "        },\n",
    "        'total_attempts': attempts\n",
    "    }\n",
    "    \n",
    "    print('Validation Results:')\n",
    "    print(f'Accuracy: {metrics[\"accuracy\"]:.2f}%')\n",
    "    print(f'False Positive Rate: {metrics[\"false_positive_rate\"]:.2f}%')\n",
    "    print('Confusion Matrix:')\n",
    "    print(f'{tp} {fp}')\n",
    "    print(f'{fn} {tn}')\n",
    "    print(f'Total test values: {attempts}')\n",
    "    \n",
    "    return metrics\n",
    "\n"
   ]
  },
  {
   "cell_type": "code",
   "execution_count": 21,
   "metadata": {},
   "outputs": [
    {
     "name": "stdout",
     "output_type": "stream",
     "text": [
      "Validation Results:\n",
      "Accuracy: 68.98%\n",
      "False Positive Rate: 19.19%\n",
      "Confusion Matrix:\n",
      "8169 3694\n",
      "6976 15555\n",
      "Total test values: 34394\n"
     ]
    }
   ],
   "source": [
    "metrics = evaluation(loaded_model_dqn, scaled_test)"
   ]
  },
  {
   "cell_type": "code",
   "execution_count": 22,
   "metadata": {},
   "outputs": [
    {
     "name": "stdout",
     "output_type": "stream",
     "text": [
      "Validation Results:\n",
      "Accuracy: 70.87%\n",
      "False Positive Rate: 17.76%\n",
      "Confusion Matrix:\n",
      "8417 3446\n",
      "6574 15957\n",
      "Total test values: 34394\n"
     ]
    }
   ],
   "source": [
    "metrics = evaluation(loaded_model_a2c, scaled_test)"
   ]
  },
  {
   "cell_type": "code",
   "execution_count": 23,
   "metadata": {},
   "outputs": [
    {
     "name": "stdout",
     "output_type": "stream",
     "text": [
      "Validation Results:\n",
      "Accuracy: 69.18%\n",
      "False Positive Rate: 18.91%\n",
      "Confusion Matrix:\n",
      "8235 3628\n",
      "6971 15560\n",
      "Total test values: 34394\n"
     ]
    }
   ],
   "source": [
    "metrics = evaluation(loaded_model_ppo, scaled_test)"
   ]
  },
  {
   "cell_type": "code",
   "execution_count": 24,
   "metadata": {},
   "outputs": [
    {
     "name": "stdout",
     "output_type": "stream",
     "text": [
      "Validation Results:\n",
      "Accuracy: 71.79%\n",
      "False Positive Rate: 17.02%\n",
      "Confusion Matrix:\n",
      "8553 3310\n",
      "6391 16140\n",
      "Total test values: 34394\n"
     ]
    }
   ],
   "source": [
    "metrics = evaluation(model_dqn_custom, scaled_test)\n"
   ]
  }
 ],
 "metadata": {
  "kernelspec": {
   "display_name": "Python 3",
   "language": "python",
   "name": "python3"
  },
  "language_info": {
   "codemirror_mode": {
    "name": "ipython",
    "version": 3
   },
   "file_extension": ".py",
   "mimetype": "text/x-python",
   "name": "python",
   "nbconvert_exporter": "python",
   "pygments_lexer": "ipython3",
   "version": "3.10.12"
  }
 },
 "nbformat": 4,
 "nbformat_minor": 2
}
